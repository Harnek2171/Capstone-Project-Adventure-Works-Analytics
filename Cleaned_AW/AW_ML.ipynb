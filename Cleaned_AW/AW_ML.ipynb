{
 "cells": [
  {
   "cell_type": "code",
   "execution_count": 10,
   "id": "ed61ffc4-1d89-4057-8212-dc900131a14f",
   "metadata": {},
   "outputs": [],
   "source": [
    "import pandas as pd\n",
    "import numpy as np\n",
    "import matplotlib.pyplot as plt\n",
    "import seaborn as sns"
   ]
  },
  {
   "cell_type": "code",
   "execution_count": 23,
   "id": "bf05db0a-a246-406c-a736-e248c5765554",
   "metadata": {},
   "outputs": [],
   "source": [
    "AW_C = pd.read_csv(\"AdventureWorks_Customers.csv\", encoding=\"latin1\")\n",
    "AW_PC = pd.read_csv(\"AdventureWorks_Product_Categories.csv\")\n",
    "AW_PSC = pd.read_csv(\"AdventureWorks_Product_Subcategories.csv\")\n",
    "AW_P = pd.read_csv(\"AdventureWorks_Products.csv\")\n",
    "AW_R = pd.read_csv(\"AdventureWorks_Returns.csv\")\n",
    "AW_T = pd.read_csv(\"AdventureWorks_Territories.csv\")\n",
    "AW_S = pd.read_csv(\"Sales.csv\")"
   ]
  },
  {
   "cell_type": "code",
   "execution_count": 59,
   "id": "19bfcc43-f391-4598-b281-59c52c9dabb2",
   "metadata": {},
   "outputs": [
    {
     "data": {
      "text/html": [
       "<div>\n",
       "<style scoped>\n",
       "    .dataframe tbody tr th:only-of-type {\n",
       "        vertical-align: middle;\n",
       "    }\n",
       "\n",
       "    .dataframe tbody tr th {\n",
       "        vertical-align: top;\n",
       "    }\n",
       "\n",
       "    .dataframe thead th {\n",
       "        text-align: right;\n",
       "    }\n",
       "</style>\n",
       "<table border=\"1\" class=\"dataframe\">\n",
       "  <thead>\n",
       "    <tr style=\"text-align: right;\">\n",
       "      <th></th>\n",
       "      <th>SalesTerritoryKey</th>\n",
       "      <th>Region</th>\n",
       "      <th>Country</th>\n",
       "      <th>Continent</th>\n",
       "    </tr>\n",
       "  </thead>\n",
       "  <tbody>\n",
       "    <tr>\n",
       "      <th>0</th>\n",
       "      <td>1</td>\n",
       "      <td>Northwest</td>\n",
       "      <td>United States</td>\n",
       "      <td>North America</td>\n",
       "    </tr>\n",
       "    <tr>\n",
       "      <th>1</th>\n",
       "      <td>2</td>\n",
       "      <td>Northeast</td>\n",
       "      <td>United States</td>\n",
       "      <td>North America</td>\n",
       "    </tr>\n",
       "    <tr>\n",
       "      <th>2</th>\n",
       "      <td>3</td>\n",
       "      <td>Central</td>\n",
       "      <td>United States</td>\n",
       "      <td>North America</td>\n",
       "    </tr>\n",
       "    <tr>\n",
       "      <th>3</th>\n",
       "      <td>4</td>\n",
       "      <td>Southwest</td>\n",
       "      <td>United States</td>\n",
       "      <td>North America</td>\n",
       "    </tr>\n",
       "    <tr>\n",
       "      <th>4</th>\n",
       "      <td>5</td>\n",
       "      <td>Southeast</td>\n",
       "      <td>United States</td>\n",
       "      <td>North America</td>\n",
       "    </tr>\n",
       "    <tr>\n",
       "      <th>5</th>\n",
       "      <td>6</td>\n",
       "      <td>Canada</td>\n",
       "      <td>Canada</td>\n",
       "      <td>North America</td>\n",
       "    </tr>\n",
       "    <tr>\n",
       "      <th>6</th>\n",
       "      <td>7</td>\n",
       "      <td>France</td>\n",
       "      <td>France</td>\n",
       "      <td>Europe</td>\n",
       "    </tr>\n",
       "    <tr>\n",
       "      <th>7</th>\n",
       "      <td>8</td>\n",
       "      <td>Germany</td>\n",
       "      <td>Germany</td>\n",
       "      <td>Europe</td>\n",
       "    </tr>\n",
       "    <tr>\n",
       "      <th>8</th>\n",
       "      <td>9</td>\n",
       "      <td>Australia</td>\n",
       "      <td>Australia</td>\n",
       "      <td>Pacific</td>\n",
       "    </tr>\n",
       "    <tr>\n",
       "      <th>9</th>\n",
       "      <td>10</td>\n",
       "      <td>United Kingdom</td>\n",
       "      <td>United Kingdom</td>\n",
       "      <td>Europe</td>\n",
       "    </tr>\n",
       "  </tbody>\n",
       "</table>\n",
       "</div>"
      ],
      "text/plain": [
       "   SalesTerritoryKey          Region         Country      Continent\n",
       "0                  1       Northwest   United States  North America\n",
       "1                  2       Northeast   United States  North America\n",
       "2                  3         Central   United States  North America\n",
       "3                  4       Southwest   United States  North America\n",
       "4                  5       Southeast   United States  North America\n",
       "5                  6          Canada          Canada  North America\n",
       "6                  7          France          France         Europe\n",
       "7                  8         Germany         Germany         Europe\n",
       "8                  9       Australia       Australia        Pacific\n",
       "9                 10  United Kingdom  United Kingdom         Europe"
      ]
     },
     "execution_count": 59,
     "metadata": {},
     "output_type": "execute_result"
    }
   ],
   "source": [
    "AW_T"
   ]
  },
  {
   "cell_type": "code",
   "execution_count": 43,
   "id": "b4a8ffda-d673-4476-9302-75893aa43abe",
   "metadata": {},
   "outputs": [
    {
     "data": {
      "text/plain": [
       "np.int64(38630)"
      ]
     },
     "execution_count": 43,
     "metadata": {},
     "output_type": "execute_result"
    }
   ],
   "source": [
    "AW_S['CustomerKey'].duplicated().sum()"
   ]
  },
  {
   "cell_type": "code",
   "execution_count": null,
   "id": "8d956f0f-e9d0-4a86-991f-c2cc32726b5e",
   "metadata": {},
   "outputs": [],
   "source": []
  },
  {
   "cell_type": "code",
   "execution_count": null,
   "id": "fbca42df-bdcd-46c4-9dd8-b55c2f8bb19e",
   "metadata": {},
   "outputs": [],
   "source": []
  },
  {
   "cell_type": "code",
   "execution_count": 56,
   "id": "6747fc7c-7808-4f0d-851f-5cadae13acdd",
   "metadata": {},
   "outputs": [
    {
     "name": "stdout",
     "output_type": "stream",
     "text": [
      "\n",
      "Customers Dataset - Null Values Summary:\n",
      "CustomerKey         0\n",
      "Prefix            130\n",
      "FirstName           0\n",
      "LastName            0\n",
      "BirthDate           0\n",
      "MaritalStatus       0\n",
      "Gender            130\n",
      "EmailAddress        0\n",
      "AnnualIncome        0\n",
      "TotalChildren       0\n",
      "EducationLevel      0\n",
      "Occupation          0\n",
      "HomeOwner           0\n",
      "dtype: int64\n",
      "\n",
      "Product_Categories Dataset - Null Values Summary:\n",
      "ProductCategoryKey    0\n",
      "CategoryName          0\n",
      "dtype: int64\n",
      "\n",
      "Product_SubCategories Dataset - Null Values Summary:\n",
      "ProductSubcategoryKey    0\n",
      "SubcategoryName          0\n",
      "ProductCategoryKey       0\n",
      "dtype: int64\n",
      "\n",
      "Products Dataset - Null Values Summary:\n",
      "ProductKey                0\n",
      "ProductSubcategoryKey     0\n",
      "ProductSKU                0\n",
      "ProductName               0\n",
      "ModelName                 0\n",
      "ProductDescription        0\n",
      "ProductColor             50\n",
      "ProductSize               0\n",
      "ProductStyle              0\n",
      "ProductCost               0\n",
      "ProductPrice              0\n",
      "dtype: int64\n",
      "\n",
      "Returns Dataset - Null Values Summary:\n",
      "ReturnDate        0\n",
      "TerritoryKey      0\n",
      "ProductKey        0\n",
      "ReturnQuantity    0\n",
      "dtype: int64\n",
      "\n",
      "Territories Dataset - Null Values Summary:\n",
      "SalesTerritoryKey    0\n",
      "Region               0\n",
      "Country              0\n",
      "Continent            0\n",
      "dtype: int64\n",
      "\n",
      "Sales Dataset - Null Values Summary:\n",
      "OrderDate        0\n",
      "StockDate        0\n",
      "OrderNumber      0\n",
      "ProductKey       0\n",
      "CustomerKey      0\n",
      "TerritoryKey     0\n",
      "OrderLineItem    0\n",
      "OrderQuantity    0\n",
      "dtype: int64\n"
     ]
    }
   ],
   "source": [
    "# Checking for null values\n",
    "datasets = { \n",
    "    'Customers': AW_C,\n",
    "    'Product_Categories': AW_PC,\n",
    "    'Product_SubCategories': AW_PSC,\n",
    "    'Products': AW_P,\n",
    "    'Returns': AW_R,\n",
    "    'Territories': AW_T,\n",
    "    'Sales': AW_S\n",
    "}\n",
    "\n",
    "for name, df in datasets.items():\n",
    "    print(f\"\\n{name} Dataset - Null Values Summary:\")\n",
    "    print(df.isnull().sum())"
   ]
  },
  {
   "cell_type": "code",
   "execution_count": 57,
   "id": "c9f6cda0-874c-4a83-9ad5-12f20aefd285",
   "metadata": {},
   "outputs": [],
   "source": [
    "# From the above conclusion we found that there are no null values"
   ]
  },
  {
   "cell_type": "code",
   "execution_count": 38,
   "id": "b37b319d-0ae1-4642-88e6-a39373ea13ea",
   "metadata": {},
   "outputs": [],
   "source": [
    "# Inorder to make any further analysis we need to first connect all the table and make one dataset\n",
    "# I will be connecting all the dataset with the sales table"
   ]
  },
  {
   "cell_type": "code",
   "execution_count": 74,
   "id": "964cec99-a93c-4cae-b52c-e08a0ccfacca",
   "metadata": {},
   "outputs": [],
   "source": [
    "data = AW_S.copy()"
   ]
  },
  {
   "cell_type": "code",
   "execution_count": null,
   "id": "79d54ccb-4fc5-4a03-81d0-3783b3eeb36c",
   "metadata": {},
   "outputs": [],
   "source": []
  }
 ],
 "metadata": {
  "kernelspec": {
   "display_name": "Python 3 (ipykernel)",
   "language": "python",
   "name": "python3"
  },
  "language_info": {
   "codemirror_mode": {
    "name": "ipython",
    "version": 3
   },
   "file_extension": ".py",
   "mimetype": "text/x-python",
   "name": "python",
   "nbconvert_exporter": "python",
   "pygments_lexer": "ipython3",
   "version": "3.13.7"
  }
 },
 "nbformat": 4,
 "nbformat_minor": 5
}
